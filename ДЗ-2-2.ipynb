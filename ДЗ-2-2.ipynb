{
 "cells": [
  {
   "cell_type": "markdown",
   "metadata": {
    "collapsed": true
   },
   "source": [
    "# Домашнее задание 2 \n",
    "\n",
    "Необходимо реализовать схему, указанную в hw_diagram.pdf \n"
   ]
  },
  {
   "cell_type": "markdown",
   "metadata": {},
   "source": [
    "## Описание таблиц \n",
    "PeopleStatus - Описание возможных статусов людей, которые есть в университете (Студент, Преподаватель).\n",
    "Faculties - Описание факультетов, которые есть в университете (KIB, IT, и т.д.).\n",
    "People - Информация о людях в университете (Имя, почта, ссылка на факультет, ссылка на статус).\n",
    "Classes - Описание возможных классов в университете (название (Математический анализ) и ссылка на факультет).\n",
    "Semesters - Справочник семестров факультета(например, Осень2016, '2016-01-01', '2016-12-31').\n",
    "ClassesSchedule - Расписание классов (ссылки на семестр, преподавателя и курс, день недели, время начала).\n",
    "StudentsSchedule - Таблица, описывающая, какой студент ходит на какой курс."
   ]
  },
  {
   "cell_type": "code",
   "execution_count": 1,
   "metadata": {
    "collapsed": false
   },
   "outputs": [
    {
     "data": {
      "text/plain": [
       "'Connected: None@None'"
      ]
     },
     "execution_count": 1,
     "metadata": {},
     "output_type": "execute_result"
    }
   ],
   "source": [
    "%load_ext sql\n",
    "%sql sqlite://\n",
    "    "
   ]
  },
  {
   "cell_type": "markdown",
   "metadata": {},
   "source": [
    "## Создание таблиц\n",
    "Напишет ниже скрипты по созданию таблиц с учетом всех внешних ключей."
   ]
  },
  {
   "cell_type": "code",
   "execution_count": 2,
   "metadata": {
    "collapsed": false
   },
   "outputs": [
    {
     "name": "stdout",
     "output_type": "stream",
     "text": [
      "Done.\n",
      "0 rows affected.\n",
      "Done.\n",
      "0 rows affected.\n",
      "Done.\n",
      "0 rows affected.\n",
      "Done.\n",
      "0 rows affected.\n",
      "Done.\n",
      "0 rows affected.\n",
      "Done.\n",
      "0 rows affected.\n",
      "Done.\n",
      "0 rows affected.\n"
     ]
    },
    {
     "data": {
      "text/plain": [
       "[]"
      ]
     },
     "execution_count": 2,
     "metadata": {},
     "output_type": "execute_result"
    }
   ],
   "source": [
    "%%sql drop table if exists PeopleStatus; \n",
    "create table PeopleStatus( \n",
    "id integer primary key, \n",
    "name varchar \n",
    "); \n",
    "drop table if exists People; \n",
    "create table People( \n",
    "ID integer primary key, \n",
    "name varchar, \n",
    "email varchar, \n",
    "fac_id integer, \n",
    "status_id integer \n",
    "); \n",
    "drop table if exists Faculties; \n",
    "create table Faculties( \n",
    "ID integer primary key, \n",
    "name varchar \n",
    "); \n",
    "drop table if exists Classes; \n",
    "create table Classes( \n",
    "id integer primary key, \n",
    "description varchar, \n",
    "fac_id integer \n",
    "); \n",
    "drop table if exists StudentsSchedule; \n",
    "create table StudentsSchedule( \n",
    "student_id integer primary key, \n",
    "studentsSchedule_id integer \n",
    "); \n",
    "drop table if exists ClassesSchedule; \n",
    "create table ClassesSchedule( \n",
    "ID integer primary key, \n",
    "class_id integer, \n",
    "teacher_id integer, \n",
    "semestr_id integer, \n",
    "week_day integer, \n",
    "time_start varchar \n",
    "); \n",
    "drop table if exists Semesters; \n",
    "create table Semesters( \n",
    "ID integer primary key, \n",
    "shortname varchar, \n",
    "date_start date, \n",
    "date_end date \n",
    ");\n",
    "\n"
   ]
  },
  {
   "cell_type": "markdown",
   "metadata": {},
   "source": [
    "\n",
    "## Добавление записей в таблицы\n",
    "Приведите примеры добавления записей в каждую из таблиц\n"
   ]
  },
  {
   "cell_type": "code",
   "execution_count": 4,
   "metadata": {
    "collapsed": false
   },
   "outputs": [
    {
     "ename": "SyntaxError",
     "evalue": "invalid syntax (<ipython-input-4-6929d8330903>, line 1)",
     "output_type": "error",
     "traceback": [
      "\u001b[1;36m  File \u001b[1;32m\"<ipython-input-4-6929d8330903>\"\u001b[1;36m, line \u001b[1;32m1\u001b[0m\n\u001b[1;33m    insert into PeopleStatus values(1, 'John');\u001b[0m\n\u001b[1;37m              ^\u001b[0m\n\u001b[1;31mSyntaxError\u001b[0m\u001b[1;31m:\u001b[0m invalid syntax\n"
     ]
    }
   ],
   "source": [
    "insert into PeopleStatus values(1, 'John'); \n",
    "insert into PeopleStatus values(2,'Nastya'); \n",
    "insert into PeopleStatus values(3, 'Nikita'); \n",
    "insert into PeopleStatus values(4,'Ann'); \n",
    "\n",
    "insert into People values(1,'John', 'qwe.ru', 111, 10001); \n",
    "insert into People values(2,'Nastya', 'rty.ru', 222, 10002); \n",
    "insert into People values(3,'Nikita', 'uio.ru', 333, 10003); \n",
    "insert into People values(4,'Ann', 'asd.ru', 444, 10004); \n",
    "\n",
    "insert into Faculties values(1,'John'); \n",
    "insert into Faculties values(2,'Nastya'); \n",
    "insert into Faculties values(3,'Nikita'); \n",
    "insert into Faculties values(4,'Ann'); \n",
    "\n",
    "insert into Classes values(1, 'A1', 111); \n",
    "insert into Classes values(2, 'A2', 222); \n",
    "insert into Classes values(3, 'A3', 333); \n",
    "insert into Classes values(4, 'A4', 444); \n",
    "\n",
    "insert into ClassesSchedule values(1, 123, 1234, 1.1, 121, '1A1'); \n",
    "insert into ClassesSchedule values(2, 234, 1235, 1.2, 131, '1B1'); \n",
    "insert into ClassesSchedule values(3, 345, 1236, 1.3, 141, '1C1'); \n",
    "insert into ClassesSchedule values(4, 456, 1237, 1.4, 151, '1D1'); \n",
    "\n",
    "insert into StudentsSchedule values(1, 'Jo1'); \n",
    "insert into StudentsSchedule values(2, 'Na2'); \n",
    "insert into StudentsSchedule values(3, 'Ni3'); \n",
    "insert into StudentsSchedule values(4, 'An4'); \n",
    "\n",
    "insert into Semesters values(1, 'AB', '01-02-17', '01-07-17'); \n",
    "insert into Semesters values(1, 'CD','02-03-17', '02-08-17'); \n",
    "insert into Semesters values(1, 'EF', '03-04-17', '03-08-17'); \n",
    "insert into Semesters values(1, 'GH','04-05-17', '04-10-17');\n",
    "\n"
   ]
  },
  {
   "cell_type": "markdown",
   "metadata": {},
   "source": [
    "\n",
    "\n",
    "Находится ли указанная схема ниже в BCNF? Напишите ниже функциональные зависимости, которые вы считаете, есть в указанной схеме. "
   ]
  },
  {
   "cell_type": "markdown",
   "metadata": {},
   "source": []
  }
 ],
 "metadata": {
  "kernelspec": {
   "display_name": "Python 3",
   "language": "python",
   "name": "python3"
  },
  "language_info": {
   "codemirror_mode": {
    "name": "ipython",
    "version": 3
   },
   "file_extension": ".py",
   "mimetype": "text/x-python",
   "name": "python",
   "nbconvert_exporter": "python",
   "pygments_lexer": "ipython3",
   "version": "3.6.0"
  }
 },
 "nbformat": 4,
 "nbformat_minor": 2
}
